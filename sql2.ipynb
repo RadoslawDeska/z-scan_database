{
 "cells": [
  {
   "cell_type": "markdown",
   "metadata": {},
   "source": [
    "# IMPORT STUFF"
   ]
  },
  {
   "cell_type": "code",
   "execution_count": 1,
   "metadata": {},
   "outputs": [],
   "source": [
    "from json import dumps, loads\n",
    "import logging\n",
    "import mysql.connector\n",
    "from mysql.connector import errorcode\n",
    "import os\n",
    "import pandas as pd\n",
    "from pathlib import Path\n",
    "from typing import List, LiteralString, Sequence, Tuple, Union\n",
    "import time\n",
    "import traceback\n",
    "\n",
    "debug_mode = True\n",
    "if debug_mode:\n",
    "    import inspect\n",
    "\n",
    "regenerate_db = False"
   ]
  },
  {
   "cell_type": "markdown",
   "metadata": {},
   "source": [
    "# CONNECT TO DATABASE"
   ]
  },
  {
   "cell_type": "code",
   "execution_count": 2,
   "metadata": {},
   "outputs": [
    {
     "name": "stdout",
     "output_type": "stream",
     "text": [
      "Connection established on 'localhost' with 'root' access.\n",
      "Database z_scans created successfully.\n",
      "Using z_scans as default database.\n"
     ]
    }
   ],
   "source": [
    "def _connect(host, user, pwd, db=\"\"):\n",
    "    if db:\n",
    "        return mysql.connector.connect(host=host, user=user, password=pwd, database=db) \n",
    "    return mysql.connector.connect(host=host, user=user, password=pwd)\n",
    "\n",
    "# Credentials\n",
    "host, user, pwd = \"localhost\", \"root\", \"ROOTroot1\"\n",
    "\n",
    "# Database\n",
    "db_name = \"z_scans\"\n",
    "\n",
    "try:\n",
    "    # Make connection\n",
    "    connection = _connect(host, user, pwd)\n",
    "    print(f\"Connection established on '{host}' with '{user}' access.\")\n",
    "    connection.autocommit = True\n",
    "    cursor = connection.cursor()\n",
    "\n",
    "    # Attempt database creation\n",
    "    if regenerate_db:\n",
    "        cursor.execute(f\"DROP DATABASE IF EXISTS `{db_name}`;\")  # This is only to start a-fresh.\n",
    "    cursor.execute(f\"CREATE DATABASE IF NOT EXISTS `{db_name}`;\")  # backticks are for safety if db_name becomes a user input in future\n",
    "    print(f\"Database {db_name} created successfully.\")\n",
    "\n",
    "except mysql.connector.Error as err:\n",
    "    if err.errno == errorcode.CR_UNKNOWN_HOST:\n",
    "        print(f\"Failed to connect to {host}. Unknown host.\")\n",
    "        exit()\n",
    "    elif err.errno == errorcode.ER_ACCESS_DENIED_ERROR:\n",
    "        print(\"Access denied. User name or password is wrong.\")\n",
    "        exit()\n",
    "    elif err.errno == errorcode.ER_DB_CREATE_EXISTS:\n",
    "        pass\n",
    "    else:\n",
    "        print(err)\n",
    "        exit()\n",
    "\n",
    "finally:\n",
    "    cursor.execute(f\"USE `{db_name}`;\")\n",
    "    print(f\"Using {db_name} as default database.\")"
   ]
  },
  {
   "cell_type": "markdown",
   "metadata": {},
   "source": [
    "# Show exisiting samples"
   ]
  },
  {
   "cell_type": "code",
   "execution_count": 3,
   "metadata": {},
   "outputs": [
    {
     "name": "stdout",
     "output_type": "stream",
     "text": [
      "(1, 'silica', 'silica', None, None, 3.0, None, None)\n",
      "(2, 'silica', 'silica', None, None, 4.0, None, None)\n",
      "(3, 'Butanol', 'solvent', None, None, None, 0.8098, 1.3993)\n",
      "(4, 'Chloroform', 'solvent', None, None, None, 1.484, 1.4459)\n",
      "(5, 'DCM', 'solvent', None, None, None, 1.3255, 1.4244)\n",
      "(6, 'DMF', 'solvent', None, None, None, 0.9445, 1.4305)\n",
      "(7, 'DMSO', 'solvent', None, None, None, 1.101, 1.4783)\n",
      "(8, 'DMSO (Deuterated)', 'solvent', None, None, None, 1.19, 1.476)\n",
      "(9, 'Ethanol', 'solvent', None, None, None, 0.7893, 1.3611)\n",
      "(10, 'THF', 'solvent', None, None, None, 0.8833, 1.405)\n",
      "(11, 'Toluene', 'solvent', None, None, None, 0.8623, 1.4967)\n",
      "(12, 'Water', 'solvent', None, None, None, 1.0, 1.333)\n",
      "(13, 'Water (Deuterated)', 'solvent', None, None, None, 1.1044, 1.3283)\n"
     ]
    }
   ],
   "source": [
    "cursor.execute(\"SELECT * FROM z_scans.AllSamples;\")\n",
    "results = cursor.fetchall()\n",
    "for result in results:\n",
    "    print(result)"
   ]
  },
  {
   "cell_type": "markdown",
   "metadata": {},
   "source": [
    "# simulate contents from the program"
   ]
  },
  {
   "cell_type": "code",
   "execution_count": 4,
   "metadata": {},
   "outputs": [
    {
     "name": "stdout",
     "output_type": "stream",
     "text": [
      "SELECT * FROM AllSamples WHERE sample_code = Silica AND abs(silica_thicknessMM-3) <= 1e-06;\n",
      "ID: 1\n",
      "code='Silica',cuvetteType='silica', Checking additional parameters\n",
      "--------------------------------------------------\n",
      "SELECT * FROM AllSamples WHERE sample_code = DCM AND abs(solvent_density-1.3255) <= 1e-06 AND abs(solvent_index-1.4244) <= 1e-06;\n",
      "ID: 5\n",
      "code='DCM',cuvetteType='solvent', Checking additional parameters\n",
      "--------------------------------------------------\n",
      "SELECT * FROM AllSamples WHERE sample_code = Water AND abs(solvent_density-1.3255) <= 1e-06 AND abs(solvent_index-1.4244) <= 1e-06;\n",
      "code='Water',cuvetteType='solvent'\n",
      "Nothing found\n",
      "Getting the parameters from the user inputs.\n",
      "Adding to database\n",
      "--------------------------------------------------\n",
      "SELECT * FROM AllSamples WHERE sample_code = s1 AND sample_solvent = DCM AND abs(sample_concentration-1) <= 1e-06;\n",
      "code='s1',cuvetteType='sample'\n",
      "Nothing found\n",
      "Getting the parameters from the user inputs.\n",
      "Adding to database\n",
      "--------------------------------------------------\n",
      "SELECT * FROM AllSamples WHERE sample_code = s2 AND sample_solvent = DCM AND abs(sample_concentration-1) <= 1e-06;\n",
      "code='s2',cuvetteType='sample'\n",
      "Nothing found\n",
      "Getting the parameters from the user inputs.\n",
      "Adding to database\n",
      "--------------------------------------------------\n",
      "SELECT * FROM AllSamples WHERE sample_code = s3 AND sample_solvent = DCM AND abs(sample_concentration-1) <= 1e-06;\n",
      "code='s3',cuvetteType='sample'\n",
      "Nothing found\n",
      "Getting the parameters from the user inputs.\n",
      "Adding to database\n",
      "--------------------------------------------------\n"
     ]
    }
   ],
   "source": [
    "float_tolerance = 1E-6\n",
    "\n",
    "codeOfSamples = {\"Silica\": \"silica\",\n",
    "                \"DCM\": \"solvent\", \"Water\": \"solvent\",\n",
    "                \"s1\": \"sample\", \"s2\": \"sample\", \"s3\": \"sample\"}\n",
    "\n",
    "solvents = {\"DCM\": {\"density\": 1.3255, \"index\": 1.4244},\n",
    "            \"Water\": {\"density\": 1.0, \"index\": 1.333}}\n",
    "\n",
    "silica_thicknesses = [3, 4]\n",
    "silicaThickness_dataSavingTab_doubleSpinBox_value = 3\n",
    "solventName_dataSavingTab_comboBox_currentText = 'DCM'\n",
    "concentration_dataSavingTab_doubleSpinBox_value = 1\n",
    "\n",
    "user_inputs = {'silica': [('silica_thicknessMM', silicaThickness_dataSavingTab_doubleSpinBox_value)],\n",
    "               'solvent': [('solvent_density', solvents[solventName_dataSavingTab_comboBox_currentText][\"density\"]),\n",
    "                            ('solvent_index', solvents[solventName_dataSavingTab_comboBox_currentText]['index'])],\n",
    "               'sample': [('sample_solvent', solventName_dataSavingTab_comboBox_currentText),\n",
    "                           ('sample_concentration', concentration_dataSavingTab_doubleSpinBox_value)]\n",
    "               }\n",
    "\n",
    "def find_item(codeOfSample, cuvetteType):\n",
    "    conditions = []\n",
    "    for param in user_inputs[cuvetteType]:\n",
    "        if param[1] is not None:\n",
    "            if isinstance(param[1], (float|int)):\n",
    "                conditions.append(f\"abs({param[0]}-%s) <= {float_tolerance}\")\n",
    "            else:\n",
    "                conditions.append(f\"{param[0]} = %s\")\n",
    "    query_sample_id = f\"sample_code = %s AND \" + \" AND \".join(conditions)\n",
    "    query_params = (codeOfSample,) + tuple(param[1] for param in user_inputs[cuvetteType] if param[1] is not None)\n",
    "    \n",
    "    query = \"SELECT * FROM AllSamples WHERE \" + query_sample_id + \";\"\n",
    "    \n",
    "    print(query % query_params)\n",
    "    \n",
    "    cursor.execute(query, query_params)\n",
    "        \n",
    "    return cursor.fetchone()\n",
    "    \n",
    "# this happens on save\n",
    "\n",
    "for code in codeOfSamples:\n",
    "    cuvetteType = codeOfSamples[code].lower()\n",
    "    \n",
    "    # below should work with the program (only change the nomenclature)\n",
    "    \n",
    "    is_found = find_item(code, cuvetteType)  # in terms of the program nomenclature it is:\n",
    "                                             # (codeOfSample_comboBox.currentText(), cuvetteType_comboBox.currentText())\n",
    "                                             # and then it should work without the `for` loop\n",
    "    if not is_found:  # requires adding the sample to database\n",
    "        print(f\"{code=},{cuvetteType=}\")\n",
    "        print(\"Nothing found\")\n",
    "        print(\"Getting the parameters from the user inputs.\")\n",
    "        print(\"Adding to database\")\n",
    "        print(\"-\"*50)\n",
    "    else:\n",
    "        print(\"ID:\", is_found[0])\n",
    "        # should check additional parameters (those that define affiliation of codeOfSample to cuvetteType)\n",
    "        print(f\"{code=},{cuvetteType=}, Checking additional parameters\")\n",
    "        print(\"-\"*50)"
   ]
  }
 ],
 "metadata": {
  "kernelspec": {
   "display_name": ".venv",
   "language": "python",
   "name": "python3"
  },
  "language_info": {
   "codemirror_mode": {
    "name": "ipython",
    "version": 3
   },
   "file_extension": ".py",
   "mimetype": "text/x-python",
   "name": "python",
   "nbconvert_exporter": "python",
   "pygments_lexer": "ipython3",
   "version": "3.11.6"
  }
 },
 "nbformat": 4,
 "nbformat_minor": 2
}
